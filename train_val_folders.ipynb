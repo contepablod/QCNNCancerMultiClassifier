{
 "cells": [
  {
   "cell_type": "code",
   "execution_count": 31,
   "metadata": {},
   "outputs": [],
   "source": [
    "import os\n",
    "import random\n",
    "from shutil import copyfile\n",
    "from collections import Counter\n",
    "\n",
    "# specify the directory containing the images\n",
    "img_dir = r'C:\\Users\\conte\\OneDrive\\Escritorio\\Colegio Bourbaki\\DL\\RedesConvolucionales\\Mauna_Kea\\MultiClassifier\\ClassifiedImages'\n",
    "\n",
    "# specify the ratio for the train/val split (e.g. 0.8 for 80/20)\n",
    "train_ratio = 0.80\n",
    "\n",
    "# specify the labels\n",
    "labels = ['0', '1', '2', '3']\n",
    "\n",
    "# create the train and val directories if they don't already exist\n",
    "if not os.path.exists(os.path.join(img_dir, 'Train')):\n",
    "    os.makedirs(os.path.join(img_dir, 'Train'))\n",
    "if not os.path.exists(os.path.join(img_dir, 'Val')):\n",
    "    os.makedirs(os.path.join(img_dir, 'Val'))\n",
    "\n",
    "# create the label directories within the train and val directories\n",
    "for label in labels:\n",
    "    if not os.path.exists(os.path.join(img_dir, 'Train', label)):\n",
    "        os.makedirs(os.path.join(img_dir, 'Train', label))\n",
    "    if not os.path.exists(os.path.join(img_dir, 'Val', label)):\n",
    "        os.makedirs(os.path.join(img_dir, 'Val', label))"
   ]
  },
  {
   "cell_type": "code",
   "execution_count": 32,
   "metadata": {},
   "outputs": [],
   "source": [
    "import pandas as pd\n",
    "data = pd.read_csv(r\"C:\\Users\\conte\\OneDrive\\Escritorio\\Colegio Bourbaki\\DL\\RedesConvolucionales\\Mauna_Kea\\MultiClassifier\\TrainingSet_20aimVO.csv\")"
   ]
  },
  {
   "cell_type": "code",
   "execution_count": 33,
   "metadata": {},
   "outputs": [],
   "source": [
    "data['patient'] = data['image_filename'].apply(lambda x: int(x.split('_')[2].split('.')[0]))"
   ]
  },
  {
   "cell_type": "code",
   "execution_count": 34,
   "metadata": {},
   "outputs": [
    {
     "data": {
      "text/html": [
       "<div>\n",
       "<style scoped>\n",
       "    .dataframe tbody tr th:only-of-type {\n",
       "        vertical-align: middle;\n",
       "    }\n",
       "\n",
       "    .dataframe tbody tr th {\n",
       "        vertical-align: top;\n",
       "    }\n",
       "\n",
       "    .dataframe thead th {\n",
       "        text-align: right;\n",
       "    }\n",
       "</style>\n",
       "<table border=\"1\" class=\"dataframe\">\n",
       "  <thead>\n",
       "    <tr style=\"text-align: right;\">\n",
       "      <th></th>\n",
       "      <th>image_filename</th>\n",
       "      <th>class_number</th>\n",
       "      <th>patient</th>\n",
       "    </tr>\n",
       "  </thead>\n",
       "  <tbody>\n",
       "    <tr>\n",
       "      <th>0</th>\n",
       "      <td>im_4_0.png</td>\n",
       "      <td>0</td>\n",
       "      <td>0</td>\n",
       "    </tr>\n",
       "    <tr>\n",
       "      <th>1</th>\n",
       "      <td>im_21_0.png</td>\n",
       "      <td>0</td>\n",
       "      <td>0</td>\n",
       "    </tr>\n",
       "    <tr>\n",
       "      <th>2</th>\n",
       "      <td>im_9_0.png</td>\n",
       "      <td>0</td>\n",
       "      <td>0</td>\n",
       "    </tr>\n",
       "    <tr>\n",
       "      <th>3</th>\n",
       "      <td>im_8_0.png</td>\n",
       "      <td>0</td>\n",
       "      <td>0</td>\n",
       "    </tr>\n",
       "    <tr>\n",
       "      <th>4</th>\n",
       "      <td>im_15_0.png</td>\n",
       "      <td>0</td>\n",
       "      <td>0</td>\n",
       "    </tr>\n",
       "    <tr>\n",
       "      <th>...</th>\n",
       "      <td>...</td>\n",
       "      <td>...</td>\n",
       "      <td>...</td>\n",
       "    </tr>\n",
       "    <tr>\n",
       "      <th>9441</th>\n",
       "      <td>im_114_55.png</td>\n",
       "      <td>3</td>\n",
       "      <td>55</td>\n",
       "    </tr>\n",
       "    <tr>\n",
       "      <th>9442</th>\n",
       "      <td>im_7_55.png</td>\n",
       "      <td>3</td>\n",
       "      <td>55</td>\n",
       "    </tr>\n",
       "    <tr>\n",
       "      <th>9443</th>\n",
       "      <td>im_52_55.png</td>\n",
       "      <td>3</td>\n",
       "      <td>55</td>\n",
       "    </tr>\n",
       "    <tr>\n",
       "      <th>9444</th>\n",
       "      <td>im_10_55.png</td>\n",
       "      <td>3</td>\n",
       "      <td>55</td>\n",
       "    </tr>\n",
       "    <tr>\n",
       "      <th>9445</th>\n",
       "      <td>im_111_55.png</td>\n",
       "      <td>3</td>\n",
       "      <td>55</td>\n",
       "    </tr>\n",
       "  </tbody>\n",
       "</table>\n",
       "<p>9446 rows × 3 columns</p>\n",
       "</div>"
      ],
      "text/plain": [
       "     image_filename  class_number  patient\n",
       "0        im_4_0.png             0        0\n",
       "1       im_21_0.png             0        0\n",
       "2        im_9_0.png             0        0\n",
       "3        im_8_0.png             0        0\n",
       "4       im_15_0.png             0        0\n",
       "...             ...           ...      ...\n",
       "9441  im_114_55.png             3       55\n",
       "9442    im_7_55.png             3       55\n",
       "9443   im_52_55.png             3       55\n",
       "9444   im_10_55.png             3       55\n",
       "9445  im_111_55.png             3       55\n",
       "\n",
       "[9446 rows x 3 columns]"
      ]
     },
     "execution_count": 34,
     "metadata": {},
     "output_type": "execute_result"
    }
   ],
   "source": [
    "data"
   ]
  },
  {
   "cell_type": "code",
   "execution_count": 35,
   "metadata": {},
   "outputs": [],
   "source": [
    "patients = data['patient'].drop_duplicates().tolist()"
   ]
  },
  {
   "cell_type": "code",
   "execution_count": 36,
   "metadata": {},
   "outputs": [],
   "source": [
    "random.shuffle(patients)\n",
    "train_patients = patients[:int(train_ratio * len(patients))]\n",
    "val_patients = patients[int(train_ratio * len(patients)):]"
   ]
  },
  {
   "cell_type": "code",
   "execution_count": 37,
   "metadata": {},
   "outputs": [],
   "source": [
    "data = data.set_index('patient')"
   ]
  },
  {
   "cell_type": "code",
   "execution_count": 38,
   "metadata": {},
   "outputs": [],
   "source": [
    "data['image_filename'] = data['image_filename'].astype(str)"
   ]
  },
  {
   "cell_type": "code",
   "execution_count": 39,
   "metadata": {},
   "outputs": [],
   "source": [
    "IMG_DIR=r'C:\\Users\\conte\\OneDrive\\Escritorio\\Colegio Bourbaki\\DL\\RedesConvolucionales\\Mauna_Kea\\MultiClassifier\\TrainingSetImagesDir'"
   ]
  },
  {
   "cell_type": "code",
   "execution_count": 40,
   "metadata": {},
   "outputs": [
    {
     "name": "stdout",
     "output_type": "stream",
     "text": [
      "Total files moved 9446\n"
     ]
    }
   ],
   "source": [
    "# iterate through the train patients\n",
    "t=0\n",
    "for patient in train_patients:\n",
    "    images = data['image_filename'].loc[patient].tolist()\n",
    "    for image in images:\n",
    "        label = str(data.loc[data['image_filename'] ==\n",
    "                         image, 'class_number'].iloc[0])\n",
    "        # copy the image to the appropriate label directory within the train directory\n",
    "        copyfile(os.path.join(IMG_DIR, str(image)),\n",
    "                 os.path.join(img_dir, 'Train', label, str(image)))\n",
    "        t += 1\n",
    "\n",
    "# iterate through the val patients\n",
    "v=0\n",
    "for patient in val_patients:\n",
    "    images = data['image_filename'].loc[patient].tolist()\n",
    "    for image in images:\n",
    "        label = str(data.loc[data['image_filename'] ==\n",
    "                         image, 'class_number'].iloc[0])\n",
    "        # copy the image to the appropriate label directory within the val directory\n",
    "        copyfile(os.path.join(IMG_DIR, str(image)),\n",
    "                 os.path.join(img_dir, 'Val', label, str(image)))\n",
    "        v += 1\n",
    "\n",
    "print(f'Total files moved {t+v}')"
   ]
  },
  {
   "cell_type": "code",
   "execution_count": null,
   "metadata": {},
   "outputs": [],
   "source": [
    "path_train = r'C:\\Users\\conte\\OneDrive\\Escritorio\\Colegio Bourbaki\\DL\\RedesConvolucionales\\Mauna_Kea\\MultiClassifier\\ClassifiedImages\\Train'\n",
    "path_val = r'C:\\Users\\conte\\OneDrive\\Escritorio\\Colegio Bourbaki\\DL\\RedesConvolucionales\\Mauna_Kea\\MultiClassifier\\ClassifiedImages\\Val'\n",
    "labels= [0,1,2,3]\n",
    "for label in labels:\n",
    "    counter_train = Counter(os.listdir(os.path.join(path_train,str(label))))\n",
    "    counter_val = Counter(os.listdir(os.path.join(path_val, str(label))))\n",
    "    common_elements = counter_train & counter_val\n",
    "    print(f'Label {label} has {len(common_elements)} common elements')\n"
   ]
  }
 ],
 "metadata": {
  "kernelspec": {
   "display_name": "Python 3",
   "language": "python",
   "name": "python3"
  },
  "language_info": {
   "codemirror_mode": {
    "name": "ipython",
    "version": 3
   },
   "file_extension": ".py",
   "mimetype": "text/x-python",
   "name": "python",
   "nbconvert_exporter": "python",
   "pygments_lexer": "ipython3",
   "version": "3.10.9 (tags/v3.10.9:1dd9be6, Dec  6 2022, 20:01:21) [MSC v.1934 64 bit (AMD64)]"
  },
  "orig_nbformat": 4,
  "vscode": {
   "interpreter": {
    "hash": "de534543493c93dd74983ce351d5dc380ee4b042ff5b76a9a21948ad35ca9587"
   }
  }
 },
 "nbformat": 4,
 "nbformat_minor": 2
}
