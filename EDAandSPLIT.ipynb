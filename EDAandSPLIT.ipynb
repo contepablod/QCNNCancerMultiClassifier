{
 "cells": [
  {
   "attachments": {},
   "cell_type": "markdown",
   "metadata": {},
   "source": [
    "Import libraries"
   ]
  },
  {
   "cell_type": "code",
   "execution_count": 1,
   "metadata": {},
   "outputs": [],
   "source": [
    "import os\n",
    "import shutil\n",
    "import numpy as np\n",
    "import pandas as pd\n",
    "import seaborn as sns\n",
    "import matplotlib.pyplot as plt\n",
    "from collections import Counter\n",
    "from sklearn.model_selection import GroupShuffleSplit\n",
    "from jupyter_datatables import init_datatables_mode"
   ]
  },
  {
   "attachments": {},
   "cell_type": "markdown",
   "metadata": {},
   "source": [
    "Readind data and EDA"
   ]
  },
  {
   "cell_type": "code",
   "execution_count": 2,
   "metadata": {},
   "outputs": [],
   "source": [
    "data = pd.read_csv(\n",
    "    r\"C:\\Users\\conte\\OneDrive\\Escritorio\\Colegio Bourbaki\\DL\\RedesConvolucionales\\Mauna_Kea\\MultiClassifier\\TrainingSet_20aimVO.csv\")\n"
   ]
  },
  {
   "cell_type": "code",
   "execution_count": 3,
   "metadata": {},
   "outputs": [],
   "source": [
    "data['patient'] = data['image_filename'].apply(lambda x: int(x.split('_')[2].split('.')[0]))"
   ]
  },
  {
   "cell_type": "code",
   "execution_count": 4,
   "metadata": {},
   "outputs": [],
   "source": [
    "data['image_filename'] = data['image_filename'].astype(str)\n"
   ]
  },
  {
   "cell_type": "code",
   "execution_count": 5,
   "metadata": {},
   "outputs": [
    {
     "data": {
      "text/html": [
       "<div>\n",
       "<style scoped>\n",
       "    .dataframe tbody tr th:only-of-type {\n",
       "        vertical-align: middle;\n",
       "    }\n",
       "\n",
       "    .dataframe tbody tr th {\n",
       "        vertical-align: top;\n",
       "    }\n",
       "\n",
       "    .dataframe thead th {\n",
       "        text-align: right;\n",
       "    }\n",
       "</style>\n",
       "<table border=\"1\" class=\"dataframe\">\n",
       "  <thead>\n",
       "    <tr style=\"text-align: right;\">\n",
       "      <th></th>\n",
       "      <th>image_filename</th>\n",
       "      <th>class_number</th>\n",
       "      <th>patient</th>\n",
       "    </tr>\n",
       "  </thead>\n",
       "  <tbody>\n",
       "    <tr>\n",
       "      <th>0</th>\n",
       "      <td>im_4_0.png</td>\n",
       "      <td>0</td>\n",
       "      <td>0</td>\n",
       "    </tr>\n",
       "    <tr>\n",
       "      <th>1</th>\n",
       "      <td>im_21_0.png</td>\n",
       "      <td>0</td>\n",
       "      <td>0</td>\n",
       "    </tr>\n",
       "    <tr>\n",
       "      <th>2</th>\n",
       "      <td>im_9_0.png</td>\n",
       "      <td>0</td>\n",
       "      <td>0</td>\n",
       "    </tr>\n",
       "    <tr>\n",
       "      <th>3</th>\n",
       "      <td>im_8_0.png</td>\n",
       "      <td>0</td>\n",
       "      <td>0</td>\n",
       "    </tr>\n",
       "    <tr>\n",
       "      <th>4</th>\n",
       "      <td>im_15_0.png</td>\n",
       "      <td>0</td>\n",
       "      <td>0</td>\n",
       "    </tr>\n",
       "  </tbody>\n",
       "</table>\n",
       "</div>"
      ],
      "text/plain": [
       "  image_filename  class_number  patient\n",
       "0     im_4_0.png             0        0\n",
       "1    im_21_0.png             0        0\n",
       "2     im_9_0.png             0        0\n",
       "3     im_8_0.png             0        0\n",
       "4    im_15_0.png             0        0"
      ]
     },
     "execution_count": 5,
     "metadata": {},
     "output_type": "execute_result"
    }
   ],
   "source": [
    "data.head()"
   ]
  },
  {
   "cell_type": "code",
   "execution_count": 6,
   "metadata": {},
   "outputs": [
    {
     "name": "stdout",
     "output_type": "stream",
     "text": [
      "<class 'pandas.core.frame.DataFrame'>\n",
      "RangeIndex: 9446 entries, 0 to 9445\n",
      "Data columns (total 3 columns):\n",
      " #   Column          Non-Null Count  Dtype \n",
      "---  ------          --------------  ----- \n",
      " 0   image_filename  9446 non-null   object\n",
      " 1   class_number    9446 non-null   int64 \n",
      " 2   patient         9446 non-null   int64 \n",
      "dtypes: int64(2), object(1)\n",
      "memory usage: 221.5+ KB\n"
     ]
    }
   ],
   "source": [
    "data.info()"
   ]
  },
  {
   "cell_type": "code",
   "execution_count": 7,
   "metadata": {},
   "outputs": [],
   "source": [
    "images_per_label = data['class_number'].value_counts()"
   ]
  },
  {
   "cell_type": "code",
   "execution_count": 8,
   "metadata": {},
   "outputs": [
    {
     "data": {
      "image/png": "[encoded data removed]",
      "text/plain": [
       "<Figure size 720x360 with 1 Axes>"
      ]
     },
     "metadata": {
      "needs_background": "light"
     },
     "output_type": "display_data"
    }
   ],
   "source": [
    "images_per_label.plot(kind='bar', x='patient', y='counts', figsize=(10, 5))\n",
    "plt.xlabel('Labels')\n",
    "plt.ylabel('Number of Images')\n",
    "plt.title('Number of Images per Label')\n",
    "plt.show()\n"
   ]
  },
  {
   "cell_type": "code",
   "execution_count": 9,
   "metadata": {},
   "outputs": [],
   "source": [
    "images_per_patient = data.groupby('patient').size().reset_index(name='counts')"
   ]
  },
  {
   "cell_type": "code",
   "execution_count": 10,
   "metadata": {},
   "outputs": [
    {
     "data": {
      "image/png": "[encoded data removed]",
      "text/plain": [
       "<Figure size 720x360 with 1 Axes>"
      ]
     },
     "metadata": {
      "needs_background": "light"
     },
     "output_type": "display_data"
    }
   ],
   "source": [
    "images_per_patient.plot(kind='bar', x='patient', y='counts', figsize=(10,5))\n",
    "plt.xlabel('Patients')\n",
    "plt.ylabel('Number of Images')\n",
    "plt.title('Number of Images per Patient')\n",
    "plt.show()"
   ]
  },
  {
   "cell_type": "code",
   "execution_count": 11,
   "metadata": {},
   "outputs": [
    {
     "data": {
      "image/png": "[encoded data removed]",
      "text/plain": [
       "<Figure size 432x288 with 1 Axes>"
      ]
     },
     "metadata": {
      "needs_background": "light"
     },
     "output_type": "display_data"
    }
   ],
   "source": [
    "sns.histplot(data=images_per_patient, x='counts', element='step',\n",
    "             kde=True, bins='auto')\n",
    "plt.xlabel('Number of Images')\n",
    "plt.ylabel('Frequency')\n",
    "plt.title('Distribution of Images per Patient')\n",
    "plt.show()\n"
   ]
  },
  {
   "cell_type": "code",
   "execution_count": 12,
   "metadata": {},
   "outputs": [],
   "source": [
    "images_per_patient_label = data.groupby(['patient', 'class_number']).size().reset_index(name='counts')"
   ]
  },
  {
   "cell_type": "code",
   "execution_count": 13,
   "metadata": {},
   "outputs": [
    {
     "data": {
      "image/png": "[encoded data removed]",
      "text/plain": [
       "<Figure size 504x720 with 2 Axes>"
      ]
     },
     "metadata": {
      "needs_background": "light"
     },
     "output_type": "display_data"
    }
   ],
   "source": [
    "pivoted = images_per_patient_label.pivot_table(\n",
    "    values='counts', index='patient', columns='class_number', fill_value=0)\n",
    "fig, ax = plt.subplots(figsize=(7, 10))\n",
    "sns.heatmap(data=pivoted, annot=True, fmt='d', cmap='YlGnBu')\n",
    "plt.xlabel('Labels')\n",
    "plt.ylabel('Patients')\n",
    "plt.title('Distribution of Images per Patient and Label\\n')\n",
    "plt.show()"
   ]
  },
  {
   "cell_type": "code",
   "execution_count": 14,
   "metadata": {},
   "outputs": [
    {
     "name": "stdout",
     "output_type": "stream",
     "text": [
      "Patients with images in more than one label: 5\n"
     ]
    }
   ],
   "source": [
    "images_per_patient_label_nunique = data.groupby(\n",
    "    ['patient']).class_number.nunique().reset_index(name='counts')\n",
    "more_than_one_label = pivoted.apply(\n",
    "    lambda x: x.where(x > 0).count() > 1, axis=1)\n",
    "count_more_than_one_label = more_than_one_label.sum()\n",
    "print(f'Patients with images in more than one label: {count_more_than_one_label}')"
   ]
  },
  {
   "cell_type": "code",
   "execution_count": 15,
   "metadata": {},
   "outputs": [],
   "source": [
    "REAL_DIR=r'C:\\Users\\conte\\OneDrive\\Escritorio\\Colegio Bourbaki\\DL\\RedesConvolucionales\\Mauna_Kea\\MultiClassifier\\TrainingSetImagesDir'\n",
    "TARGET_DIR=r'C:\\Users\\conte\\OneDrive\\Escritorio\\Colegio Bourbaki\\DL\\RedesConvolucionales\\Mauna_Kea\\MultiClassifier\\ClassifiedImages'"
   ]
  },
  {
   "cell_type": "code",
   "execution_count": 16,
   "metadata": {},
   "outputs": [],
   "source": [
    "split = 0.2"
   ]
  },
  {
   "attachments": {},
   "cell_type": "markdown",
   "metadata": {},
   "source": [
    "Image Splitting considering that all the images of one patient must be in train folder or validation folder"
   ]
  },
  {
   "cell_type": "code",
   "execution_count": 17,
   "metadata": {},
   "outputs": [],
   "source": [
    "# # shuffle the dataframe\n",
    "# perm = np.random.permutation(data.index)\n",
    "# data = data.iloc[perm]\n",
    "\n",
    "# # create the split object\n",
    "# gss = GroupShuffleSplit(n_splits=1, test_size=split, random_state=0)\n",
    "\n",
    "# # split the data into train and validation sets\n",
    "# train_index, val_index = next(gss.split(data, groups=data['patient']))\n",
    "\n",
    "# # get the training and validation data\n",
    "# df_train = data.iloc[train_index]\n",
    "# df_val = data.iloc[val_index]\n",
    "\n",
    "# # loop through the training data and move the images to the train directory\n",
    "# t=0\n",
    "# for i, row in df_train.iterrows():\n",
    "#     label = row['class_number']\n",
    "#     label_dir = os.path.join(TARGET_DIR, 'Train', str(label))\n",
    "#     if not os.path.exists(label_dir):\n",
    "#         os.makedirs(label_dir) # creates directory\n",
    "#     img_path = os.path.join(REAL_DIR, row['image_filename'])\n",
    "#     shutil.copy2(img_path, label_dir)\n",
    "#     t += 1\n",
    "\n",
    "# # loop through the validation data and move the images to the val directory\n",
    "# v = 0\n",
    "# for i, row in df_val.iterrows():\n",
    "#     label = row['class_number']\n",
    "#     label_dir = os.path.join(TARGET_DIR,'Val', str(label))\n",
    "#     if not os.path.exists(label_dir):\n",
    "#         os.makedirs(label_dir) \n",
    "#     img_path = os.path.join(REAL_DIR, row['image_filename'])\n",
    "#     shutil.copy2(img_path, label_dir)\n",
    "#     v += 1\n",
    "\n",
    "# print(f'Total files moved {t+v}')"
   ]
  },
  {
   "attachments": {},
   "cell_type": "markdown",
   "metadata": {},
   "source": [
    "Image Splitting considering that all the images of one patient must be in train folder or validation folder and patients with multiple labels images"
   ]
  },
  {
   "cell_type": "code",
   "execution_count": 18,
   "metadata": {},
   "outputs": [
    {
     "name": "stdout",
     "output_type": "stream",
     "text": [
      "Total files moved 9446\n"
     ]
    }
   ],
   "source": [
    "# shuffle the dataframe\n",
    "perm = np.random.permutation(data.index)\n",
    "data = data.iloc[perm]\n",
    "\n",
    "# Create a list to store the dataframes\n",
    "data_by_label = []\n",
    "\n",
    "# loop through each label and create a dataframe for that label\n",
    "for label in range(4):\n",
    "    data_by_label.append(data[data['class_number'] == label])\n",
    "\n",
    "# create the split object\n",
    "gss = GroupShuffleSplit(n_splits=1, test_size=split, random_state=0)\n",
    "\n",
    "# loop through each dataframe and split the data into train and validation sets\n",
    "data_train_by_label = []\n",
    "data_val_by_label = []\n",
    "\n",
    "for data_label in data_by_label:\n",
    "    train_index, val_index = next(\n",
    "        gss.split(data_label, groups=data_label['patient']))\n",
    "    data_train_by_label.append(data_label.iloc[train_index])\n",
    "    data_val_by_label.append(data_label.iloc[val_index])\n",
    "\n",
    "# create a list of directories for the train and validation sets\n",
    "train_dirs = []\n",
    "val_dirs = []\n",
    "for label in range(4):\n",
    "    train_dirs.append(os.path.join(TARGET_DIR, 'Train', str(label)))\n",
    "    val_dirs.append(os.path.join(TARGET_DIR, 'Val', str(label)))\n",
    "\n",
    "# create the directories if they don't exist\n",
    "for train_dir, val_dir in zip(train_dirs, val_dirs):\n",
    "    if not os.path.exists(train_dir):\n",
    "        os.makedirs(train_dir)\n",
    "    if not os.path.exists(val_dir):\n",
    "        os.makedirs(val_dir)\n",
    "\n",
    "\n",
    "t = 0\n",
    "v = 0\n",
    "for data_train, data_val, train_dir, val_dir in zip(data_train_by_label, data_val_by_label, train_dirs, val_dirs):\n",
    "    # loop through the training data and move the images to the train directory\n",
    "    for _, row in data_train.iterrows():\n",
    "        label = row['class_number']\n",
    "        label_dir = os.path.join(TARGET_DIR,'Train', str(label))\n",
    "        if not os.path.exists(label_dir):\n",
    "            os.makedirs(label_dir)\n",
    "        img_path = os.path.join(REAL_DIR, row['image_filename'])\n",
    "        shutil.copy2(img_path, label_dir)\n",
    "        t += 1\n",
    "    # loop through the validation data and move the images to the train directory\n",
    "    for _, row in data_val.iterrows():\n",
    "        label = row['class_number']\n",
    "        label_dir = os.path.join(TARGET_DIR, 'Val', str(label))\n",
    "        if not os.path.exists(label_dir):\n",
    "            os.makedirs(label_dir)\n",
    "        img_path = os.path.join(REAL_DIR, row['image_filename'])\n",
    "        shutil.copy2(img_path, label_dir)\n",
    "        v += 1\n",
    "\n",
    "print(f'Total files moved {t+v}')"
   ]
  },
  {
   "attachments": {},
   "cell_type": "markdown",
   "metadata": {},
   "source": [
    "Check"
   ]
  },
  {
   "cell_type": "code",
   "execution_count": 19,
   "metadata": {},
   "outputs": [
    {
     "name": "stdout",
     "output_type": "stream",
     "text": [
      "Label 0 has 401 common elements\n",
      "Label 0 in Train has 1469 elements\n",
      "Label 0 in Val has 401 elements\n",
      "Label 0 has a 0.786 split-ratio\n",
      "================================================\n",
      "Label 1 has 881 common elements\n",
      "Label 1 in Train has 2723 elements\n",
      "Label 1 in Val has 1335 elements\n",
      "Label 1 has a 0.671 split-ratio\n",
      "================================================\n",
      "Label 2 has 1001 common elements\n",
      "Label 2 in Train has 1206 elements\n",
      "Label 2 in Val has 1001 elements\n",
      "Label 2 has a 0.546 split-ratio\n",
      "================================================\n",
      "Label 3 has 1861 common elements\n",
      "Label 3 in Train has 3594 elements\n",
      "Label 3 in Val has 1861 elements\n",
      "Label 3 has a 0.659 split-ratio\n",
      "================================================\n"
     ]
    }
   ],
   "source": [
    "path_train = r'C:\\Users\\conte\\OneDrive\\Escritorio\\Colegio Bourbaki\\DL\\RedesConvolucionales\\Mauna_Kea\\MultiClassifier\\ClassifiedImages\\Train'\n",
    "path_val = r'C:\\Users\\conte\\OneDrive\\Escritorio\\Colegio Bourbaki\\DL\\RedesConvolucionales\\Mauna_Kea\\MultiClassifier\\ClassifiedImages\\Val'\n",
    "labels = [0, 1, 2, 3]\n",
    "for label in labels:\n",
    "    counter_train = Counter(os.listdir(os.path.join(path_train, str(label))))\n",
    "    counter_val = Counter(os.listdir(os.path.join(path_val, str(label))))\n",
    "    common_elements = counter_train & counter_val\n",
    "    print(f'Label {label} has {len(common_elements)} common elements')\n",
    "    print(f'Label {label} in Train has {len(counter_train)} elements')\n",
    "    print(f'Label {label} in Val has {len(counter_val)} elements')\n",
    "    split_ratio = len(counter_train) / (len(counter_train) + len(counter_val))\n",
    "    print(f'Label {label} has a {split_ratio:.3f} split-ratio')\n",
    "    print('================================================')\n"
   ]
  }
 ],
 "metadata": {
  "kernelspec": {
   "display_name": "Python 3",
   "language": "python",
   "name": "python3"
  },
  "language_info": {
   "codemirror_mode": {
    "name": "ipython",
    "version": 3
   },
   "file_extension": ".py",
   "mimetype": "text/x-python",
   "name": "python",
   "nbconvert_exporter": "python",
   "pygments_lexer": "ipython3",
   "version": "3.10.9"
  },
  "orig_nbformat": 4,
  "vscode": {
   "interpreter": {
    "hash": "de534543493c93dd74983ce351d5dc380ee4b042ff5b76a9a21948ad35ca9587"
   }
  }
 },
 "nbformat": 4,
 "nbformat_minor": 2
}
