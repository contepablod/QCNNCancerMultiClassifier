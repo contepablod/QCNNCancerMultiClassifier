{
 "cells": [
  {
   "cell_type": "code",
   "execution_count": 2,
   "metadata": {},
   "outputs": [],
   "source": [
    "import os\n",
    "import shutil\n",
    "import random\n",
    "import pathlib\n",
    "import pandas as pd"
   ]
  },
  {
   "cell_type": "code",
   "execution_count": 17,
   "metadata": {},
   "outputs": [],
   "source": [
    "data = pd.read_csv(r\"C:\\Users\\conte\\OneDrive\\Escritorio\\Colegio Bourbaki\\DL\\RedesConvolucionales\\Mauna_Kea\\MultiClassifier\\TrainingSet_20aimVO.csv\")"
   ]
  },
  {
   "cell_type": "code",
   "execution_count": 4,
   "metadata": {},
   "outputs": [
    {
     "data": {
      "text/html": [
       "<div>\n",
       "<style scoped>\n",
       "    .dataframe tbody tr th:only-of-type {\n",
       "        vertical-align: middle;\n",
       "    }\n",
       "\n",
       "    .dataframe tbody tr th {\n",
       "        vertical-align: top;\n",
       "    }\n",
       "\n",
       "    .dataframe thead th {\n",
       "        text-align: right;\n",
       "    }\n",
       "</style>\n",
       "<table border=\"1\" class=\"dataframe\">\n",
       "  <thead>\n",
       "    <tr style=\"text-align: right;\">\n",
       "      <th></th>\n",
       "      <th>image_filename</th>\n",
       "      <th>class_number</th>\n",
       "    </tr>\n",
       "  </thead>\n",
       "  <tbody>\n",
       "    <tr>\n",
       "      <th>0</th>\n",
       "      <td>im_4_0.png</td>\n",
       "      <td>0</td>\n",
       "    </tr>\n",
       "    <tr>\n",
       "      <th>1</th>\n",
       "      <td>im_21_0.png</td>\n",
       "      <td>0</td>\n",
       "    </tr>\n",
       "    <tr>\n",
       "      <th>2</th>\n",
       "      <td>im_9_0.png</td>\n",
       "      <td>0</td>\n",
       "    </tr>\n",
       "    <tr>\n",
       "      <th>3</th>\n",
       "      <td>im_8_0.png</td>\n",
       "      <td>0</td>\n",
       "    </tr>\n",
       "    <tr>\n",
       "      <th>4</th>\n",
       "      <td>im_15_0.png</td>\n",
       "      <td>0</td>\n",
       "    </tr>\n",
       "  </tbody>\n",
       "</table>\n",
       "</div>"
      ],
      "text/plain": [
       "  image_filename  class_number\n",
       "0     im_4_0.png             0\n",
       "1    im_21_0.png             0\n",
       "2     im_9_0.png             0\n",
       "3     im_8_0.png             0\n",
       "4    im_15_0.png             0"
      ]
     },
     "execution_count": 4,
     "metadata": {},
     "output_type": "execute_result"
    }
   ],
   "source": [
    "data.head()"
   ]
  },
  {
   "cell_type": "code",
   "execution_count": 5,
   "metadata": {},
   "outputs": [
    {
     "name": "stdout",
     "output_type": "stream",
     "text": [
      "<class 'pandas.core.frame.DataFrame'>\n",
      "RangeIndex: 9446 entries, 0 to 9445\n",
      "Data columns (total 2 columns):\n",
      " #   Column          Non-Null Count  Dtype \n",
      "---  ------          --------------  ----- \n",
      " 0   image_filename  9446 non-null   object\n",
      " 1   class_number    9446 non-null   int64 \n",
      "dtypes: int64(1), object(1)\n",
      "memory usage: 147.7+ KB\n"
     ]
    }
   ],
   "source": [
    "data.info()"
   ]
  },
  {
   "cell_type": "code",
   "execution_count": 6,
   "metadata": {},
   "outputs": [
    {
     "data": {
      "text/plain": [
       "3    3594\n",
       "1    3177\n",
       "0    1469\n",
       "2    1206\n",
       "Name: class_number, dtype: int64"
      ]
     },
     "execution_count": 6,
     "metadata": {},
     "output_type": "execute_result"
    }
   ],
   "source": [
    "data['class_number'].value_counts()"
   ]
  },
  {
   "cell_type": "code",
   "execution_count": 7,
   "metadata": {},
   "outputs": [
    {
     "name": "stdout",
     "output_type": "stream",
     "text": [
      "9446 images copied \n"
     ]
    }
   ],
   "source": [
    "#Spliting and Copying into Train-Test Folders\n",
    "target_dir = r'C:\\Users\\conte\\OneDrive\\Escritorio\\Colegio Bourbaki\\DL\\RedesConvolucionales\\Mauna_Kea\\MultiClassifier\\ClassifiedImages\\\\'\n",
    "image_path = r'C:\\Users\\conte\\OneDrive\\Escritorio\\Colegio Bourbaki\\DL\\RedesConvolucionales\\Mauna_Kea\\MultiClassifier\\TrainingSetImagesDir\\\\'\n",
    "\n",
    "count = 0\n",
    "for image_split in [0, 1, 2, 3]:\n",
    "    labels = list(data[(data['class_number']==image_split)]['image_filename'])\n",
    "    for label in labels:\n",
    "        to_dir = pathlib.Path(str(target_dir) + str(image_split) + '/' + str(label))\n",
    "        if not to_dir.is_dir():\n",
    "            to_dir.parent.mkdir(parents=True, exist_ok=True)\n",
    "        from_dir = pathlib.Path(image_path + label)\n",
    "        shutil.copy2(from_dir, to_dir)\n",
    "        count += 1\n",
    "\n",
    "print(f'{count:.0f} images copied ')"
   ]
  },
  {
   "cell_type": "code",
   "execution_count": 18,
   "metadata": {},
   "outputs": [],
   "source": [
    "# Setup data paths\n",
    "data_path = r'C:\\Users\\conte\\OneDrive\\Escritorio\\Colegio Bourbaki\\DL\\RedesConvolucionales\\Mauna_Kea\\MultiClassifier\\ClassifiedImages\\\\'\n",
    "\n",
    "# Create function to split randomly in Train and Test\n",
    "def train_val_split(image_path=data_path,\n",
    "               data_splits=['Train', 'Val'], \n",
    "               target_classes = [0, 1, 2, 3],\n",
    "               split=0.05,\n",
    "               seed=42):\n",
    "    random.seed(42)\n",
    "    label_splits = {}\n",
    "    \n",
    "    # Get labels\n",
    "    for data_split in data_splits:\n",
    "        print(f\"[INFO] Creating image split for: {data_split}...\")\n",
    "        image_paths = []\n",
    "        for target in target_classes:\n",
    "            labels = list(data[(data['class_number']==target)]['image_filename'])\n",
    "            sample = round((1-split)*len(labels))\n",
    "            print(f\"[INFO] Getting random set of {sample} images for {data_split}-{target} ...\")\n",
    "            if data_split == 'Train':\n",
    "                sampled_images = random.sample(labels, k=sample)\n",
    "            elif data_split == 'Val':\n",
    "                sampled_images = labels\n",
    "            image_paths.append([pathlib.Path(str(image_path + str(target) + '/' + sample_image)) for sample_image in sampled_images])\n",
    "            data.drop(data[data['image_filename'].isin(sampled_images)].index, inplace=True)\n",
    "            print(f'Left images: {len(data)}')\n",
    "        image_path_flat = [item for sublist in image_paths for item in sublist]\n",
    "        label_splits[data_split] = image_path_flat\n",
    "    \n",
    "    print('\\n','Finish splitting!')\n",
    "\n",
    "    return label_splits"
   ]
  },
  {
   "cell_type": "code",
   "execution_count": 19,
   "metadata": {},
   "outputs": [
    {
     "name": "stdout",
     "output_type": "stream",
     "text": [
      "[INFO] Creating image split for: Train...\n",
      "[INFO] Getting random set of 1322 images for Train-0 ...\n",
      "Left images: 8124\n",
      "[INFO] Getting random set of 2859 images for Train-1 ...\n",
      "Left images: 5265\n",
      "[INFO] Getting random set of 1085 images for Train-2 ...\n",
      "Left images: 4180\n",
      "[INFO] Getting random set of 3235 images for Train-3 ...\n",
      "Left images: 945\n",
      "[INFO] Creating image split for: Val...\n",
      "[INFO] Getting random set of 132 images for Val-0 ...\n",
      "Left images: 798\n",
      "[INFO] Getting random set of 286 images for Val-1 ...\n",
      "Left images: 480\n",
      "[INFO] Getting random set of 109 images for Val-2 ...\n",
      "Left images: 359\n",
      "[INFO] Getting random set of 323 images for Val-3 ...\n",
      "Left images: 0\n",
      "\n",
      " Finish splitting!\n"
     ]
    }
   ],
   "source": [
    "label_splits = train_val_split(split=0.10)"
   ]
  },
  {
   "cell_type": "code",
   "execution_count": 20,
   "metadata": {},
   "outputs": [
    {
     "data": {
      "text/plain": [
       "[WindowsPath('C:/Users/conte/OneDrive/Escritorio/Colegio Bourbaki/DL/RedesConvolucionales/Mauna_Kea/MultiClassifier/ClassifiedImages/0/im_277_31.png'),\n",
       " WindowsPath('C:/Users/conte/OneDrive/Escritorio/Colegio Bourbaki/DL/RedesConvolucionales/Mauna_Kea/MultiClassifier/ClassifiedImages/0/im_98_4.png'),\n",
       " WindowsPath('C:/Users/conte/OneDrive/Escritorio/Colegio Bourbaki/DL/RedesConvolucionales/Mauna_Kea/MultiClassifier/ClassifiedImages/0/im_46_1.png'),\n",
       " WindowsPath('C:/Users/conte/OneDrive/Escritorio/Colegio Bourbaki/DL/RedesConvolucionales/Mauna_Kea/MultiClassifier/ClassifiedImages/0/im_173_6.png'),\n",
       " WindowsPath('C:/Users/conte/OneDrive/Escritorio/Colegio Bourbaki/DL/RedesConvolucionales/Mauna_Kea/MultiClassifier/ClassifiedImages/0/im_137_6.png'),\n",
       " WindowsPath('C:/Users/conte/OneDrive/Escritorio/Colegio Bourbaki/DL/RedesConvolucionales/Mauna_Kea/MultiClassifier/ClassifiedImages/0/im_56_6.png'),\n",
       " WindowsPath('C:/Users/conte/OneDrive/Escritorio/Colegio Bourbaki/DL/RedesConvolucionales/Mauna_Kea/MultiClassifier/ClassifiedImages/0/im_42_5.png'),\n",
       " WindowsPath('C:/Users/conte/OneDrive/Escritorio/Colegio Bourbaki/DL/RedesConvolucionales/Mauna_Kea/MultiClassifier/ClassifiedImages/0/im_87_4.png'),\n",
       " WindowsPath('C:/Users/conte/OneDrive/Escritorio/Colegio Bourbaki/DL/RedesConvolucionales/Mauna_Kea/MultiClassifier/ClassifiedImages/0/im_39_36.png'),\n",
       " WindowsPath('C:/Users/conte/OneDrive/Escritorio/Colegio Bourbaki/DL/RedesConvolucionales/Mauna_Kea/MultiClassifier/ClassifiedImages/0/im_255_31.png')]"
      ]
     },
     "execution_count": 20,
     "metadata": {},
     "output_type": "execute_result"
    }
   ],
   "source": [
    "label_splits['Train'][0:10]"
   ]
  },
  {
   "cell_type": "code",
   "execution_count": 21,
   "metadata": {},
   "outputs": [
    {
     "data": {
      "text/plain": [
       "0"
      ]
     },
     "execution_count": 21,
     "metadata": {},
     "output_type": "execute_result"
    }
   ],
   "source": [
    "from collections import Counter\n",
    "counter1 = Counter(label_splits['Train'])\n",
    "counter2 = Counter(label_splits['Val'])\n",
    "common_elements = counter1 & counter2\n",
    "len(common_elements)"
   ]
  },
  {
   "cell_type": "code",
   "execution_count": 22,
   "metadata": {},
   "outputs": [
    {
     "name": "stdout",
     "output_type": "stream",
     "text": [
      "Creating directory: 'C:\\Users\\conte\\OneDrive\\Escritorio\\Colegio Bourbaki\\DL\\RedesConvolucionales\\Mauna_Kea\\MultiClassifier\\ClassifiedImages'\n",
      "9446 images moved\n"
     ]
    }
   ],
   "source": [
    "# Create target directory path\n",
    "target_dir_name = r'C:\\Users\\conte\\OneDrive\\Escritorio\\Colegio Bourbaki\\DL\\RedesConvolucionales\\Mauna_Kea\\MultiClassifier\\ClassifiedImages'\n",
    "print(f\"Creating directory: '{target_dir_name}'\")\n",
    "\n",
    "# Setup the directories & Make the directories\n",
    "target_dir = pathlib.Path(target_dir_name)\n",
    "target_dir.mkdir(parents=True, exist_ok=True)\n",
    "\n",
    "\n",
    "import shutil\n",
    "\n",
    "count=0\n",
    "for image_split in label_splits.keys():\n",
    "    for image_path in label_splits[str(image_split)]:\n",
    "        dest_dir = target_dir / image_split / image_path.parts[-2] / image_path.name\n",
    "        if not dest_dir.parent.is_dir():\n",
    "            dest_dir.parent.mkdir(parents=True, exist_ok=True)\n",
    "        shutil.copy2(image_path, dest_dir)\n",
    "        count += 1\n",
    "        \n",
    "\n",
    "print(f'{count:.0f} images moved')"
   ]
  },
  {
   "cell_type": "code",
   "execution_count": 23,
   "metadata": {},
   "outputs": [],
   "source": [
    "# for image_split in label_splits.keys():\n",
    "#     delete_dir = target_dir / image_split\n",
    "#     files_in_dir = os.listdir(delete_dir)     # get list of files in the directory\n",
    "#     for file in files_in_dir:                  # loop to delete each file in folder\n",
    "#         os.remove(f'{delete_dir}/{file}')     # delete file\n",
    "#     os.rmdir(image_path.parent)"
   ]
  }
 ],
 "metadata": {
  "kernelspec": {
   "display_name": "Python 3.10.7 64-bit",
   "language": "python",
   "name": "python3"
  },
  "language_info": {
   "codemirror_mode": {
    "name": "ipython",
    "version": 3
   },
   "file_extension": ".py",
   "mimetype": "text/x-python",
   "name": "python",
   "nbconvert_exporter": "python",
   "pygments_lexer": "ipython3",
   "version": "3.10.7"
  },
  "orig_nbformat": 4,
  "vscode": {
   "interpreter": {
    "hash": "de534543493c93dd74983ce351d5dc380ee4b042ff5b76a9a21948ad35ca9587"
   }
  }
 },
 "nbformat": 4,
 "nbformat_minor": 2
}
